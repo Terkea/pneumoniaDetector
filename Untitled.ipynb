{
 "cells": [
  {
   "cell_type": "code",
   "execution_count": 1,
   "metadata": {},
   "outputs": [],
   "source": [
    "# Helper libraries\n",
    "import os\n",
    "import tensorflow as tf\n",
    "import numpy as np\n",
    "from tensorflow import keras"
   ]
  },
  {
   "cell_type": "code",
   "execution_count": 2,
   "metadata": {},
   "outputs": [],
   "source": [
    "# CONSTANTS\n",
    "PATH = os.getcwd()\n",
    "DATASET = os.path.join(PATH, \"chest_xray\")\n",
    "TRAINING_DATA = os.path.join(DATASET, \"train\")\n",
    "TESTING_DATA = os.path.join(DATASET, \"test\") "
   ]
  },
  {
   "cell_type": "markdown",
   "metadata": {},
   "source": [
    "construim lista cu toate pozele"
   ]
  },
  {
   "cell_type": "code",
   "execution_count": 3,
   "metadata": {},
   "outputs": [
    {
     "name": "stderr",
     "output_type": "stream",
     "text": [
      "Using TensorFlow backend.\n"
     ]
    }
   ],
   "source": [
    "from keras.preprocessing.image import array_to_img, img_to_array, load_img\n",
    "from skimage.transform import resize\n",
    "\n",
    "def generate_training_data():\n",
    "    images = []\n",
    "    labels = []\n",
    "    size = 100\n",
    "    for label in os.listdir(TRAINING_DATA):\n",
    "        _path = os.path.join(TRAINING_DATA, label)\n",
    "        for image in os.listdir(_path):\n",
    "            img = load_img(_path + \"/\" + image, target_size=(size,size))\n",
    "#             print(img.size)\n",
    "            img = img_to_array(img)\n",
    "            \n",
    "            images.append(img)\n",
    "            labels.append(label)\n",
    "    return (images, labels)\n",
    "\n",
    "def generate_testing_data():\n",
    "    images = []\n",
    "    labels = []\n",
    "    size = 100\n",
    "    for label in os.listdir(TESTING_DATA):\n",
    "        _path = os.path.join(TESTING_DATA, label)\n",
    "        for image in os.listdir(_path):\n",
    "            img = load_img(_path + \"/\" + image, target_size=(size,size))\n",
    "#             print(img.size)\n",
    "            img = img_to_array(img)\n",
    "            images.append(img)\n",
    "            labels.append(label)\n",
    "    return (images, labels)"
   ]
  },
  {
   "cell_type": "code",
   "execution_count": 4,
   "metadata": {},
   "outputs": [],
   "source": [
    "model = keras.Sequential([\n",
    "    keras.layers.Flatten(),\n",
    "    keras.layers.Dense(128, activation='relu'),\n",
    "    keras.layers.Dense(30)\n",
    "])\n",
    "\n",
    "model.compile(optimizer='adam',\n",
    "            loss=tf.keras.losses.SparseCategoricalCrossentropy(from_logits=True),\n",
    "            metrics=['accuracy'])"
   ]
  },
  {
   "cell_type": "code",
   "execution_count": 5,
   "metadata": {},
   "outputs": [],
   "source": [
    "train_data, train_labels = generate_training_data()\n",
    "test_data, test_labels = generate_testing_data()"
   ]
  },
  {
   "cell_type": "code",
   "execution_count": 10,
   "metadata": {},
   "outputs": [
    {
     "name": "stdout",
     "output_type": "stream",
     "text": [
      "[[0]\n",
      " [0]\n",
      " [0]\n",
      " ...\n",
      " [1]\n",
      " [1]\n",
      " [1]]\n"
     ]
    }
   ],
   "source": [
    "from sklearn.preprocessing import LabelBinarizer\n",
    "encoder = LabelBinarizer()\n",
    "train_labels = encoder.fit_transform(train_labels)\n",
    "print(train_labels)"
   ]
  },
  {
   "cell_type": "code",
   "execution_count": null,
   "metadata": {},
   "outputs": [],
   "source": [
    "model.fit(x=np.array(train_data), \n",
    "        y=np.array([0,1]),  \n",
    "        epochs=10,\n",
    "        validation_data=(np.array(test_data),np.array([0,1])))"
   ]
  }
 ],
 "metadata": {
  "kernelspec": {
   "display_name": "tensorflow",
   "language": "python",
   "name": "tensorflow"
  },
  "language_info": {
   "codemirror_mode": {
    "name": "ipython",
    "version": 3
   },
   "file_extension": ".py",
   "mimetype": "text/x-python",
   "name": "python",
   "nbconvert_exporter": "python",
   "pygments_lexer": "ipython3",
   "version": "3.6.10"
  }
 },
 "nbformat": 4,
 "nbformat_minor": 4
}
